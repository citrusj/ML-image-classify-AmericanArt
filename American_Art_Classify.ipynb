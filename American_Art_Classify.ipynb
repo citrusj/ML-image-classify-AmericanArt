{
  "nbformat": 4,
  "nbformat_minor": 0,
  "metadata": {
    "colab": {
      "name": "American Art Classify.ipynb",
      "provenance": []
    },
    "kernelspec": {
      "name": "python3",
      "display_name": "Python 3"
    },
    "accelerator": "GPU"
  },
  "cells": [
    {
      "cell_type": "code",
      "metadata": {
        "id": "vSNRaRWCgRdN",
        "colab_type": "code",
        "outputId": "329f4e95-2bc4-44d0-fa4b-c2f1f9c47429",
        "colab": {
          "base_uri": "https://localhost:8080/",
          "height": 79
        }
      },
      "source": [
        "# import tensorflow as tf\n",
        "# import keras \n",
        "#  keras.__version__\n",
        "\n",
        "import tensorflow as tf\n",
        "from tensorflow import keras\n",
        "import matplotlib.pyplot as plt\n",
        "import numpy as np\n",
        "\n",
        "keras.__version__"
      ],
      "execution_count": 0,
      "outputs": [
        {
          "output_type": "display_data",
          "data": {
            "text/html": [
              "<p style=\"color: red;\">\n",
              "The default version of TensorFlow in Colab will soon switch to TensorFlow 2.x.<br>\n",
              "We recommend you <a href=\"https://www.tensorflow.org/guide/migrate\" target=\"_blank\">upgrade</a> now \n",
              "or ensure your notebook will continue to use TensorFlow 1.x via the <code>%tensorflow_version 1.x</code> magic:\n",
              "<a href=\"https://colab.research.google.com/notebooks/tensorflow_version.ipynb\" target=\"_blank\">more info</a>.</p>\n"
            ],
            "text/plain": [
              "<IPython.core.display.HTML object>"
            ]
          },
          "metadata": {
            "tags": []
          }
        },
        {
          "output_type": "execute_result",
          "data": {
            "text/plain": [
              "'2.2.4-tf'"
            ]
          },
          "metadata": {
            "tags": []
          },
          "execution_count": 1
        }
      ]
    },
    {
      "cell_type": "code",
      "metadata": {
        "id": "AdjxyGoWgc_4",
        "colab_type": "code",
        "colab": {}
      },
      "source": [
        "import os, shutil"
      ],
      "execution_count": 0,
      "outputs": []
    },
    {
      "cell_type": "code",
      "metadata": {
        "id": "GKPRchWFgp0g",
        "colab_type": "code",
        "colab": {}
      },
      "source": [
        "# The path to the directory where the original\n",
        "# dataset was uncompressed\n",
        "original_dataset_dir = 'art_classify'\n",
        "\n",
        "# The directory where we will\n",
        "# store our smaller dataset\n",
        "base_dir = 'art_classify'"
      ],
      "execution_count": 0,
      "outputs": []
    },
    {
      "cell_type": "code",
      "metadata": {
        "id": "MZa08KqkgwdU",
        "colab_type": "code",
        "outputId": "f89120cc-bf19-43c5-f9c4-cd42cec15d2d",
        "colab": {
          "base_uri": "https://localhost:8080/",
          "height": 188
        }
      },
      "source": [
        "from keras import layers\n",
        "from keras import models\n",
        "\n",
        "model = models.Sequential()\n",
        "model.add(layers.Conv2D(32, (3, 3), activation='relu',input_shape=(150, 150, 3)))\n",
        "model.add(layers.MaxPooling2D((2, 2)))\n",
        "model.add(layers.Conv2D(64, (3, 3), activation='relu'))\n",
        "model.add(layers.MaxPooling2D((2, 2)))\n",
        "model.add(layers.Conv2D(128, (3, 3), activation='relu'))\n",
        "model.add(layers.MaxPooling2D((2, 2)))\n",
        "model.add(layers.Conv2D(128, (3, 3), activation='relu'))\n",
        "model.add(layers.MaxPooling2D((2, 2)))\n",
        "model.add(layers.Flatten())\n",
        "model.add(layers.Dense(512, activation='relu'))\n",
        "model.add(layers.Dense(1, activation='sigmoid'))"
      ],
      "execution_count": 0,
      "outputs": [
        {
          "output_type": "stream",
          "text": [
            "WARNING:tensorflow:From /usr/local/lib/python3.6/dist-packages/keras/backend/tensorflow_backend.py:66: The name tf.get_default_graph is deprecated. Please use tf.compat.v1.get_default_graph instead.\n",
            "\n",
            "WARNING:tensorflow:From /usr/local/lib/python3.6/dist-packages/keras/backend/tensorflow_backend.py:541: The name tf.placeholder is deprecated. Please use tf.compat.v1.placeholder instead.\n",
            "\n",
            "WARNING:tensorflow:From /usr/local/lib/python3.6/dist-packages/keras/backend/tensorflow_backend.py:4432: The name tf.random_uniform is deprecated. Please use tf.random.uniform instead.\n",
            "\n",
            "WARNING:tensorflow:From /usr/local/lib/python3.6/dist-packages/keras/backend/tensorflow_backend.py:4267: The name tf.nn.max_pool is deprecated. Please use tf.nn.max_pool2d instead.\n",
            "\n"
          ],
          "name": "stdout"
        },
        {
          "output_type": "stream",
          "text": [
            "Using TensorFlow backend.\n"
          ],
          "name": "stderr"
        }
      ]
    },
    {
      "cell_type": "code",
      "metadata": {
        "id": "WFgMC-6Kgzxb",
        "colab_type": "code",
        "outputId": "c01effd3-fb75-4137-9e9e-401e36696d7c",
        "colab": {
          "base_uri": "https://localhost:8080/",
          "height": 521
        }
      },
      "source": [
        "model.summary()"
      ],
      "execution_count": 0,
      "outputs": [
        {
          "output_type": "stream",
          "text": [
            "Model: \"sequential_1\"\n",
            "_________________________________________________________________\n",
            "Layer (type)                 Output Shape              Param #   \n",
            "=================================================================\n",
            "conv2d_1 (Conv2D)            (None, 148, 148, 32)      896       \n",
            "_________________________________________________________________\n",
            "max_pooling2d_1 (MaxPooling2 (None, 74, 74, 32)        0         \n",
            "_________________________________________________________________\n",
            "conv2d_2 (Conv2D)            (None, 72, 72, 64)        18496     \n",
            "_________________________________________________________________\n",
            "max_pooling2d_2 (MaxPooling2 (None, 36, 36, 64)        0         \n",
            "_________________________________________________________________\n",
            "conv2d_3 (Conv2D)            (None, 34, 34, 128)       73856     \n",
            "_________________________________________________________________\n",
            "max_pooling2d_3 (MaxPooling2 (None, 17, 17, 128)       0         \n",
            "_________________________________________________________________\n",
            "conv2d_4 (Conv2D)            (None, 15, 15, 128)       147584    \n",
            "_________________________________________________________________\n",
            "max_pooling2d_4 (MaxPooling2 (None, 7, 7, 128)         0         \n",
            "_________________________________________________________________\n",
            "flatten_1 (Flatten)          (None, 6272)              0         \n",
            "_________________________________________________________________\n",
            "dense_1 (Dense)              (None, 512)               3211776   \n",
            "_________________________________________________________________\n",
            "dense_2 (Dense)              (None, 1)                 513       \n",
            "=================================================================\n",
            "Total params: 3,453,121\n",
            "Trainable params: 3,453,121\n",
            "Non-trainable params: 0\n",
            "_________________________________________________________________\n"
          ],
          "name": "stdout"
        }
      ]
    },
    {
      "cell_type": "code",
      "metadata": {
        "id": "3b_gbjckg2Ww",
        "colab_type": "code",
        "colab": {}
      },
      "source": [
        "from keras.preprocessing.image import ImageDataGenerator\n",
        "\n",
        "# All images will be rescaled by 1./255\n",
        "train_datagen = ImageDataGenerator(rescale=1./255)\n",
        "test_datagen = ImageDataGenerator(rescale=1./255)\n",
        "\n"
      ],
      "execution_count": 0,
      "outputs": []
    },
    {
      "cell_type": "code",
      "metadata": {
        "id": "BnMms9FkhFTP",
        "colab_type": "code",
        "outputId": "b11d9b9a-8d18-49e3-d8e2-e206dd100434",
        "colab": {
          "base_uri": "https://localhost:8080/",
          "height": 121
        }
      },
      "source": [
        "from google.colab import drive\n",
        "drive.mount('/content/gdrive')\n"
      ],
      "execution_count": 0,
      "outputs": [
        {
          "output_type": "stream",
          "text": [
            "Go to this URL in a browser: https://accounts.google.com/o/oauth2/auth?client_id=947318989803-6bn6qk8qdgf4n4g3pfee6491hc0brc4i.apps.googleusercontent.com&redirect_uri=urn%3aietf%3awg%3aoauth%3a2.0%3aoob&response_type=code&scope=email%20https%3a%2f%2fwww.googleapis.com%2fauth%2fdocs.test%20https%3a%2f%2fwww.googleapis.com%2fauth%2fdrive%20https%3a%2f%2fwww.googleapis.com%2fauth%2fdrive.photos.readonly%20https%3a%2f%2fwww.googleapis.com%2fauth%2fpeopleapi.readonly\n",
            "\n",
            "Enter your authorization code:\n",
            "··········\n",
            "Mounted at /content/gdrive\n"
          ],
          "name": "stdout"
        }
      ]
    },
    {
      "cell_type": "code",
      "metadata": {
        "id": "SbTbFpyLg5YN",
        "colab_type": "code",
        "outputId": "14cb3f19-af94-4480-83aa-fdabd21f2566",
        "colab": {
          "base_uri": "https://localhost:8080/",
          "height": 34
        }
      },
      "source": [
        "train_dir ='/content/gdrive/My Drive/art_classify/art_classify/train'\n",
        "\n",
        "train_generator = train_datagen.flow_from_directory(\n",
        "        # This is the target directory\n",
        "        train_dir,\n",
        "        # All images will be resized to 150x150\n",
        "        target_size=(150, 150),\n",
        "        batch_size=20,\n",
        "        # Since we use binary_crossentropy loss, we need binary labels\n",
        "        class_mode='binary')"
      ],
      "execution_count": 0,
      "outputs": [
        {
          "output_type": "stream",
          "text": [
            "Found 325 images belonging to 2 classes.\n"
          ],
          "name": "stdout"
        }
      ]
    },
    {
      "cell_type": "code",
      "metadata": {
        "id": "Lb8f9SRZhBq_",
        "colab_type": "code",
        "outputId": "9bfa090a-53f2-4b4d-e3f6-88d37ab20bb1",
        "colab": {
          "base_uri": "https://localhost:8080/",
          "height": 154
        }
      },
      "source": [
        "from keras import optimizers\n",
        "\n",
        "model.compile(loss='binary_crossentropy',optimizer=optimizers.RMSprop(lr=1e-4), metrics=['acc'])"
      ],
      "execution_count": 0,
      "outputs": [
        {
          "output_type": "stream",
          "text": [
            "WARNING:tensorflow:From /usr/local/lib/python3.6/dist-packages/keras/optimizers.py:793: The name tf.train.Optimizer is deprecated. Please use tf.compat.v1.train.Optimizer instead.\n",
            "\n",
            "WARNING:tensorflow:From /usr/local/lib/python3.6/dist-packages/keras/backend/tensorflow_backend.py:3657: The name tf.log is deprecated. Please use tf.math.log instead.\n",
            "\n",
            "WARNING:tensorflow:From /usr/local/lib/python3.6/dist-packages/tensorflow_core/python/ops/nn_impl.py:183: where (from tensorflow.python.ops.array_ops) is deprecated and will be removed in a future version.\n",
            "Instructions for updating:\n",
            "Use tf.where in 2.0, which has the same broadcast rule as np.where\n"
          ],
          "name": "stdout"
        }
      ]
    },
    {
      "cell_type": "code",
      "metadata": {
        "id": "iJfqvHzB78BQ",
        "colab_type": "code",
        "outputId": "e21fae03-4aeb-426f-ff86-6c6da1e1aef8",
        "colab": {
          "base_uri": "https://localhost:8080/",
          "height": 50
        }
      },
      "source": [
        "for data_batch, labels_batch in train_generator:\n",
        "    print('data batch shape:', data_batch.shape)\n",
        "    print('labels batch shape:', labels_batch.shape)\n",
        "    break"
      ],
      "execution_count": 0,
      "outputs": [
        {
          "output_type": "stream",
          "text": [
            "data batch shape: (20, 150, 150, 3)\n",
            "labels batch shape: (20,)\n"
          ],
          "name": "stdout"
        }
      ]
    },
    {
      "cell_type": "code",
      "metadata": {
        "id": "sJyEw9v07-pU",
        "colab_type": "code",
        "outputId": "3c1f8a36-95f4-46e8-b2aa-904f8aca64e7",
        "colab": {
          "base_uri": "https://localhost:8080/",
          "height": 1000
        }
      },
      "source": [
        "history = model.fit_generator(train_generator,steps_per_epoch=100,epochs=30 )"
      ],
      "execution_count": 0,
      "outputs": [
        {
          "output_type": "stream",
          "text": [
            "WARNING:tensorflow:From /usr/local/lib/python3.6/dist-packages/keras/backend/tensorflow_backend.py:1033: The name tf.assign_add is deprecated. Please use tf.compat.v1.assign_add instead.\n",
            "\n",
            "WARNING:tensorflow:From /usr/local/lib/python3.6/dist-packages/keras/backend/tensorflow_backend.py:1020: The name tf.assign is deprecated. Please use tf.compat.v1.assign instead.\n",
            "\n",
            "WARNING:tensorflow:From /usr/local/lib/python3.6/dist-packages/keras/backend/tensorflow_backend.py:3005: The name tf.Session is deprecated. Please use tf.compat.v1.Session instead.\n",
            "\n",
            "Epoch 1/30\n",
            "WARNING:tensorflow:From /usr/local/lib/python3.6/dist-packages/keras/backend/tensorflow_backend.py:190: The name tf.get_default_session is deprecated. Please use tf.compat.v1.get_default_session instead.\n",
            "\n",
            "WARNING:tensorflow:From /usr/local/lib/python3.6/dist-packages/keras/backend/tensorflow_backend.py:197: The name tf.ConfigProto is deprecated. Please use tf.compat.v1.ConfigProto instead.\n",
            "\n",
            "WARNING:tensorflow:From /usr/local/lib/python3.6/dist-packages/keras/backend/tensorflow_backend.py:207: The name tf.global_variables is deprecated. Please use tf.compat.v1.global_variables instead.\n",
            "\n",
            "WARNING:tensorflow:From /usr/local/lib/python3.6/dist-packages/keras/backend/tensorflow_backend.py:216: The name tf.is_variable_initialized is deprecated. Please use tf.compat.v1.is_variable_initialized instead.\n",
            "\n",
            "WARNING:tensorflow:From /usr/local/lib/python3.6/dist-packages/keras/backend/tensorflow_backend.py:223: The name tf.variables_initializer is deprecated. Please use tf.compat.v1.variables_initializer instead.\n",
            "\n",
            "100/100 [==============================] - 113s 1s/step - loss: 0.2863 - acc: 0.8855\n",
            "Epoch 2/30\n",
            "100/100 [==============================] - 16s 160ms/step - loss: 0.1290 - acc: 0.9555\n",
            "Epoch 3/30\n",
            "100/100 [==============================] - 16s 159ms/step - loss: 0.0658 - acc: 0.9785\n",
            "Epoch 4/30\n",
            "100/100 [==============================] - 16s 157ms/step - loss: 0.0446 - acc: 0.9865\n",
            "Epoch 5/30\n",
            "100/100 [==============================] - 16s 162ms/step - loss: 0.0231 - acc: 0.9930\n",
            "Epoch 6/30\n",
            "100/100 [==============================] - 16s 158ms/step - loss: 0.0231 - acc: 0.9935\n",
            "Epoch 7/30\n",
            "100/100 [==============================] - 16s 160ms/step - loss: 0.0189 - acc: 0.9935\n",
            "Epoch 8/30\n",
            "100/100 [==============================] - 16s 158ms/step - loss: 0.0175 - acc: 0.9950\n",
            "Epoch 9/30\n",
            "100/100 [==============================] - 16s 158ms/step - loss: 0.0129 - acc: 0.9960\n",
            "Epoch 10/30\n",
            "100/100 [==============================] - 16s 159ms/step - loss: 0.0064 - acc: 0.9985\n",
            "Epoch 11/30\n",
            "100/100 [==============================] - 16s 159ms/step - loss: 0.0222 - acc: 0.9960\n",
            "Epoch 12/30\n",
            "100/100 [==============================] - 16s 159ms/step - loss: 1.1856e-04 - acc: 1.0000\n",
            "Epoch 13/30\n",
            "100/100 [==============================] - 16s 158ms/step - loss: 0.0077 - acc: 0.9980\n",
            "Epoch 14/30\n",
            "100/100 [==============================] - 16s 159ms/step - loss: 0.0032 - acc: 0.9995\n",
            "Epoch 15/30\n",
            "100/100 [==============================] - 16s 161ms/step - loss: 0.0025 - acc: 0.9990\n",
            "Epoch 16/30\n",
            "100/100 [==============================] - 16s 159ms/step - loss: 0.0020 - acc: 0.9990\n",
            "Epoch 17/30\n",
            "100/100 [==============================] - 16s 161ms/step - loss: 1.5033e-05 - acc: 1.0000\n",
            "Epoch 18/30\n",
            "100/100 [==============================] - 16s 163ms/step - loss: 0.0089 - acc: 0.9990\n",
            "Epoch 19/30\n",
            "100/100 [==============================] - 16s 157ms/step - loss: 0.0087 - acc: 0.9965\n",
            "Epoch 20/30\n",
            "100/100 [==============================] - 16s 161ms/step - loss: 5.7759e-06 - acc: 1.0000\n",
            "Epoch 21/30\n",
            "100/100 [==============================] - 16s 159ms/step - loss: 0.0033 - acc: 0.9990\n",
            "Epoch 22/30\n",
            "100/100 [==============================] - 16s 159ms/step - loss: 5.1094e-06 - acc: 1.0000\n",
            "Epoch 23/30\n",
            "100/100 [==============================] - 16s 158ms/step - loss: 0.0046 - acc: 0.9980\n",
            "Epoch 24/30\n",
            "100/100 [==============================] - 16s 158ms/step - loss: 0.0177 - acc: 0.9975\n",
            "Epoch 25/30\n",
            "100/100 [==============================] - 16s 160ms/step - loss: 4.9640e-05 - acc: 1.0000\n",
            "Epoch 26/30\n",
            "100/100 [==============================] - 16s 157ms/step - loss: 0.0045 - acc: 0.9990\n",
            "Epoch 27/30\n",
            "100/100 [==============================] - 16s 157ms/step - loss: 3.3944e-06 - acc: 1.0000\n",
            "Epoch 28/30\n",
            "100/100 [==============================] - 16s 156ms/step - loss: 0.0206 - acc: 0.9965\n",
            "Epoch 29/30\n",
            "100/100 [==============================] - 16s 158ms/step - loss: 5.9458e-06 - acc: 1.0000\n",
            "Epoch 30/30\n",
            "100/100 [==============================] - 16s 160ms/step - loss: 4.9167e-07 - acc: 1.0000\n"
          ],
          "name": "stdout"
        }
      ]
    },
    {
      "cell_type": "code",
      "metadata": {
        "id": "lUboqgsH8F5w",
        "colab_type": "code",
        "outputId": "c1915a14-83e6-42f3-ca02-d3efff775546",
        "colab": {
          "base_uri": "https://localhost:8080/",
          "height": 545
        }
      },
      "source": [
        "import matplotlib.pyplot as plt\n",
        "\n",
        "acc = history.history['acc']\n",
        "loss = history.history['loss']\n",
        "\n",
        "epochs = range(len(acc))\n",
        "\n",
        "plt.plot(epochs, acc, 'bo', label='Training acc')\n",
        "plt.title('Training accuracy')\n",
        "plt.legend()\n",
        "\n",
        "\n",
        "plt.figure()\n",
        "\n",
        "plt.plot(epochs, loss, 'bo', label='Training loss')\n",
        "plt.title('Training loss')\n",
        "plt.legend()\n",
        "\n",
        "plt.show()"
      ],
      "execution_count": 0,
      "outputs": [
        {
          "output_type": "display_data",
          "data": {
            "image/png": "[encoded data removed]",
            "text/plain": [
              "<Figure size 432x288 with 1 Axes>"
            ]
          },
          "metadata": {
            "tags": []
          }
        },
        {
          "output_type": "display_data",
          "data": {
            "image/png": "[encoded data removed]",
            "text/plain": [
              "<Figure size 432x288 with 1 Axes>"
            ]
          },
          "metadata": {
            "tags": []
          }
        }
      ]
    },
    {
      "cell_type": "code",
      "metadata": {
        "id": "xMX6ENwBxZ75",
        "colab_type": "code",
        "colab": {}
      },
      "source": [
        "datagen = ImageDataGenerator(\n",
        "      rotation_range=40,\n",
        "      width_shift_range=0.2,\n",
        "      height_shift_range=0.2,\n",
        "      shear_range=0.2,\n",
        "      zoom_range=0.2,\n",
        "      horizontal_flip=True,\n",
        "      fill_mode='nearest')"
      ],
      "execution_count": 0,
      "outputs": []
    },
    {
      "cell_type": "code",
      "metadata": {
        "id": "xQd16gpWxdzh",
        "colab_type": "code",
        "outputId": "7dbd3cc4-001f-4f27-aec4-3fc0c6453896",
        "colab": {
          "base_uri": "https://localhost:8080/",
          "height": 121
        }
      },
      "source": [
        "model = models.Sequential()\n",
        "model.add(layers.Conv2D(32, (3, 3), activation='relu',\n",
        "                        input_shape=(150, 150, 3)))\n",
        "model.add(layers.MaxPooling2D((2, 2)))\n",
        "model.add(layers.Conv2D(64, (3, 3), activation='relu'))\n",
        "model.add(layers.MaxPooling2D((2, 2)))\n",
        "model.add(layers.Conv2D(128, (3, 3), activation='relu'))\n",
        "model.add(layers.MaxPooling2D((2, 2)))\n",
        "model.add(layers.Conv2D(128, (3, 3), activation='relu'))\n",
        "model.add(layers.MaxPooling2D((2, 2)))\n",
        "model.add(layers.Flatten())\n",
        "model.add(layers.Dropout(0.5))\n",
        "model.add(layers.Dense(512, activation='relu'))\n",
        "model.add(layers.Dense(1, activation='sigmoid'))\n",
        "\n",
        "model.compile(loss='binary_crossentropy',\n",
        "              optimizer=optimizers.RMSprop(lr=1e-4),\n",
        "              metrics=['acc'])"
      ],
      "execution_count": 0,
      "outputs": [
        {
          "output_type": "stream",
          "text": [
            "WARNING:tensorflow:From /usr/local/lib/python3.6/dist-packages/keras/backend/tensorflow_backend.py:148: The name tf.placeholder_with_default is deprecated. Please use tf.compat.v1.placeholder_with_default instead.\n",
            "\n",
            "WARNING:tensorflow:From /usr/local/lib/python3.6/dist-packages/keras/backend/tensorflow_backend.py:3733: calling dropout (from tensorflow.python.ops.nn_ops) with keep_prob is deprecated and will be removed in a future version.\n",
            "Instructions for updating:\n",
            "Please use `rate` instead of `keep_prob`. Rate should be set to `rate = 1 - keep_prob`.\n"
          ],
          "name": "stdout"
        }
      ]
    },
    {
      "cell_type": "code",
      "metadata": {
        "id": "MER1BzetxgDB",
        "colab_type": "code",
        "outputId": "75a4bfbd-8ed2-44e8-9b70-a16bdc1d47e2",
        "colab": {
          "base_uri": "https://localhost:8080/",
          "height": 1000
        }
      },
      "source": [
        "train_datagen = ImageDataGenerator(\n",
        "    rescale=1./255,\n",
        "    rotation_range=40,\n",
        "    width_shift_range=0.2,\n",
        "    height_shift_range=0.2,\n",
        "    shear_range=0.2,\n",
        "    zoom_range=0.2,\n",
        "    horizontal_flip=True,)\n",
        "\n",
        "train_dir ='/content/gdrive/My Drive/art_classify/art_classify/train'\n",
        "\n",
        "# Note that the validation data should not be augmented!\n",
        "test_datagen = ImageDataGenerator(rescale=1./255)\n",
        "\n",
        "train_generator = train_datagen.flow_from_directory(\n",
        "        # This is the target directory\n",
        "        train_dir,\n",
        "        # All images will be resized to 150x150\n",
        "        target_size=(150, 150),\n",
        "        batch_size=32,\n",
        "        # Since we use binary_crossentropy loss, we need binary labels\n",
        "        class_mode='binary')\n",
        "\n",
        "history = model.fit_generator(\n",
        "      train_generator,\n",
        "      steps_per_epoch=100,\n",
        "      epochs=100)"
      ],
      "execution_count": 0,
      "outputs": [
        {
          "output_type": "stream",
          "text": [
            "Found 325 images belonging to 2 classes.\n",
            "Epoch 1/100\n",
            "100/100 [==============================] - 36s 358ms/step - loss: 0.4274 - acc: 0.8038\n",
            "Epoch 2/100\n",
            "100/100 [==============================] - 35s 351ms/step - loss: 0.2190 - acc: 0.9236\n",
            "Epoch 3/100\n",
            "100/100 [==============================] - 36s 361ms/step - loss: 0.1750 - acc: 0.9341\n",
            "Epoch 4/100\n",
            "100/100 [==============================] - 35s 352ms/step - loss: 0.1497 - acc: 0.9396\n",
            "Epoch 5/100\n",
            "100/100 [==============================] - 35s 354ms/step - loss: 0.1194 - acc: 0.9559\n",
            "Epoch 6/100\n",
            "100/100 [==============================] - 35s 354ms/step - loss: 0.1317 - acc: 0.9544\n",
            "Epoch 7/100\n",
            "100/100 [==============================] - 36s 356ms/step - loss: 0.0987 - acc: 0.9646\n",
            "Epoch 8/100\n",
            "100/100 [==============================] - 36s 359ms/step - loss: 0.0847 - acc: 0.9682\n",
            "Epoch 9/100\n",
            "100/100 [==============================] - 36s 356ms/step - loss: 0.0685 - acc: 0.9775\n",
            "Epoch 10/100\n",
            "100/100 [==============================] - 36s 355ms/step - loss: 0.0633 - acc: 0.9763\n",
            "Epoch 11/100\n",
            "100/100 [==============================] - 36s 355ms/step - loss: 0.0669 - acc: 0.9805\n",
            "Epoch 12/100\n",
            "100/100 [==============================] - 36s 355ms/step - loss: 0.0602 - acc: 0.9808\n",
            "Epoch 13/100\n",
            "100/100 [==============================] - 35s 351ms/step - loss: 0.0341 - acc: 0.9899\n",
            "Epoch 14/100\n",
            "100/100 [==============================] - 36s 358ms/step - loss: 0.0465 - acc: 0.9841\n",
            "Epoch 15/100\n",
            "100/100 [==============================] - 35s 354ms/step - loss: 0.0424 - acc: 0.9866\n",
            "Epoch 16/100\n",
            "100/100 [==============================] - 36s 360ms/step - loss: 0.0250 - acc: 0.9900\n",
            "Epoch 17/100\n",
            "100/100 [==============================] - 35s 353ms/step - loss: 0.0409 - acc: 0.9858\n",
            "Epoch 18/100\n",
            "100/100 [==============================] - 36s 357ms/step - loss: 0.0219 - acc: 0.9922\n",
            "Epoch 19/100\n",
            "100/100 [==============================] - 36s 357ms/step - loss: 0.0301 - acc: 0.9909\n",
            "Epoch 20/100\n",
            "100/100 [==============================] - 36s 356ms/step - loss: 0.0185 - acc: 0.9934\n",
            "Epoch 21/100\n",
            "100/100 [==============================] - 36s 358ms/step - loss: 0.0243 - acc: 0.9922\n",
            "Epoch 22/100\n",
            "100/100 [==============================] - 36s 357ms/step - loss: 0.0273 - acc: 0.9909\n",
            "Epoch 23/100\n",
            "100/100 [==============================] - 36s 361ms/step - loss: 0.0128 - acc: 0.9975\n",
            "Epoch 24/100\n",
            "100/100 [==============================] - 36s 358ms/step - loss: 0.0406 - acc: 0.9916\n",
            "Epoch 25/100\n",
            "100/100 [==============================] - 36s 362ms/step - loss: 0.0290 - acc: 0.9950\n",
            "Epoch 26/100\n",
            "100/100 [==============================] - 35s 355ms/step - loss: 0.0238 - acc: 0.9934\n",
            "Epoch 27/100\n",
            "100/100 [==============================] - 35s 353ms/step - loss: 0.0179 - acc: 0.9941\n",
            "Epoch 28/100\n",
            "100/100 [==============================] - 36s 359ms/step - loss: 0.0095 - acc: 0.9956\n",
            "Epoch 29/100\n",
            "100/100 [==============================] - 35s 354ms/step - loss: 0.0086 - acc: 0.9969\n",
            "Epoch 30/100\n",
            "100/100 [==============================] - 36s 358ms/step - loss: 0.0154 - acc: 0.9936\n",
            "Epoch 31/100\n",
            "100/100 [==============================] - 36s 359ms/step - loss: 0.0079 - acc: 0.9969\n",
            "Epoch 32/100\n",
            "100/100 [==============================] - 35s 352ms/step - loss: 0.0192 - acc: 0.9956\n",
            "Epoch 33/100\n",
            "100/100 [==============================] - 35s 354ms/step - loss: 0.0084 - acc: 0.9972\n",
            "Epoch 34/100\n",
            "100/100 [==============================] - 36s 360ms/step - loss: 0.0134 - acc: 0.9959\n",
            "Epoch 35/100\n",
            "100/100 [==============================] - 35s 354ms/step - loss: 0.0305 - acc: 0.9950\n",
            "Epoch 36/100\n",
            "100/100 [==============================] - 36s 355ms/step - loss: 0.0183 - acc: 0.9953\n",
            "Epoch 37/100\n",
            "100/100 [==============================] - 35s 350ms/step - loss: 0.0083 - acc: 0.9984\n",
            "Epoch 38/100\n",
            "100/100 [==============================] - 35s 354ms/step - loss: 0.0427 - acc: 0.9907\n",
            "Epoch 39/100\n",
            "100/100 [==============================] - 36s 356ms/step - loss: 0.0191 - acc: 0.9951\n",
            "Epoch 40/100\n",
            "100/100 [==============================] - 36s 357ms/step - loss: 0.0232 - acc: 0.9952\n",
            "Epoch 41/100\n",
            "100/100 [==============================] - 35s 353ms/step - loss: 0.0099 - acc: 0.9975\n",
            "Epoch 42/100\n",
            "100/100 [==============================] - 35s 352ms/step - loss: 0.0239 - acc: 0.9944\n",
            "Epoch 43/100\n",
            "100/100 [==============================] - 36s 358ms/step - loss: 0.0035 - acc: 0.9991\n",
            "Epoch 44/100\n",
            "100/100 [==============================] - 35s 354ms/step - loss: 0.0202 - acc: 0.9984\n",
            "Epoch 45/100\n",
            "100/100 [==============================] - 35s 352ms/step - loss: 0.0162 - acc: 0.9959\n",
            "Epoch 46/100\n",
            "100/100 [==============================] - 36s 357ms/step - loss: 0.0068 - acc: 0.9978\n",
            "Epoch 47/100\n",
            "100/100 [==============================] - 35s 352ms/step - loss: 0.0129 - acc: 0.9956\n",
            "Epoch 48/100\n",
            "100/100 [==============================] - 36s 356ms/step - loss: 0.0096 - acc: 0.9975\n",
            "Epoch 49/100\n",
            "100/100 [==============================] - 35s 348ms/step - loss: 0.0118 - acc: 0.9975\n",
            "Epoch 50/100\n",
            "100/100 [==============================] - 36s 357ms/step - loss: 0.0114 - acc: 0.9962\n",
            "Epoch 51/100\n",
            "100/100 [==============================] - 35s 354ms/step - loss: 0.0059 - acc: 0.9991\n",
            "Epoch 52/100\n",
            "100/100 [==============================] - 36s 357ms/step - loss: 0.0151 - acc: 0.9959\n",
            "Epoch 53/100\n",
            "100/100 [==============================] - 35s 351ms/step - loss: 0.0064 - acc: 0.9975\n",
            "Epoch 54/100\n",
            "100/100 [==============================] - 35s 354ms/step - loss: 0.0101 - acc: 0.9972\n",
            "Epoch 55/100\n",
            "100/100 [==============================] - 36s 355ms/step - loss: 0.0065 - acc: 0.9984\n",
            "Epoch 56/100\n",
            "100/100 [==============================] - 35s 353ms/step - loss: 0.0045 - acc: 0.9991\n",
            "Epoch 57/100\n",
            "100/100 [==============================] - 35s 354ms/step - loss: 0.0235 - acc: 0.9968\n",
            "Epoch 58/100\n",
            "100/100 [==============================] - 35s 353ms/step - loss: 0.0215 - acc: 0.9966\n",
            "Epoch 59/100\n",
            "100/100 [==============================] - 36s 356ms/step - loss: 0.0069 - acc: 0.9987\n",
            "Epoch 60/100\n",
            "100/100 [==============================] - 35s 353ms/step - loss: 0.0109 - acc: 0.9978\n",
            "Epoch 61/100\n",
            "100/100 [==============================] - 35s 354ms/step - loss: 0.0050 - acc: 0.9978\n",
            "Epoch 62/100\n",
            "100/100 [==============================] - 35s 354ms/step - loss: 0.0082 - acc: 0.9980\n",
            "Epoch 63/100\n",
            "100/100 [==============================] - 35s 351ms/step - loss: 0.0070 - acc: 0.9978\n",
            "Epoch 64/100\n",
            "100/100 [==============================] - 36s 357ms/step - loss: 0.0162 - acc: 0.9975\n",
            "Epoch 65/100\n",
            "100/100 [==============================] - 35s 352ms/step - loss: 0.0070 - acc: 0.9981\n",
            "Epoch 66/100\n",
            "100/100 [==============================] - 35s 354ms/step - loss: 0.0032 - acc: 0.9987\n",
            "Epoch 67/100\n",
            "100/100 [==============================] - 35s 354ms/step - loss: 0.0236 - acc: 0.9962\n",
            "Epoch 68/100\n",
            "100/100 [==============================] - 35s 355ms/step - loss: 0.0185 - acc: 0.9981\n",
            "Epoch 69/100\n",
            "100/100 [==============================] - 36s 357ms/step - loss: 0.0191 - acc: 0.9962\n",
            "Epoch 70/100\n",
            "100/100 [==============================] - 35s 354ms/step - loss: 0.0104 - acc: 0.9978\n",
            "Epoch 71/100\n",
            "100/100 [==============================] - 35s 352ms/step - loss: 0.0087 - acc: 0.9984\n",
            "Epoch 72/100\n",
            "100/100 [==============================] - 35s 352ms/step - loss: 0.0107 - acc: 0.9975\n",
            "Epoch 73/100\n",
            "100/100 [==============================] - 36s 358ms/step - loss: 0.0176 - acc: 0.9972\n",
            "Epoch 74/100\n",
            "100/100 [==============================] - 35s 350ms/step - loss: 0.0025 - acc: 0.9994\n",
            "Epoch 75/100\n",
            "100/100 [==============================] - 35s 355ms/step - loss: 0.0060 - acc: 0.9984\n",
            "Epoch 76/100\n",
            "100/100 [==============================] - 36s 359ms/step - loss: 0.0163 - acc: 0.9981\n",
            "Epoch 77/100\n",
            "100/100 [==============================] - 35s 353ms/step - loss: 3.4968e-05 - acc: 1.0000\n",
            "Epoch 78/100\n",
            "100/100 [==============================] - 36s 357ms/step - loss: 0.0147 - acc: 0.9978\n",
            "Epoch 79/100\n",
            "100/100 [==============================] - 35s 353ms/step - loss: 0.0073 - acc: 0.9981\n",
            "Epoch 80/100\n",
            "100/100 [==============================] - 35s 351ms/step - loss: 0.0239 - acc: 0.9966\n",
            "Epoch 81/100\n",
            "100/100 [==============================] - 36s 355ms/step - loss: 0.0074 - acc: 0.9978\n",
            "Epoch 82/100\n",
            "100/100 [==============================] - 35s 349ms/step - loss: 0.0017 - acc: 0.9997\n",
            "Epoch 83/100\n",
            "100/100 [==============================] - 35s 351ms/step - loss: 0.0126 - acc: 0.9966\n",
            "Epoch 84/100\n",
            "100/100 [==============================] - 35s 354ms/step - loss: 0.0074 - acc: 0.9972\n",
            "Epoch 85/100\n",
            "100/100 [==============================] - 36s 358ms/step - loss: 0.0109 - acc: 0.9981\n",
            "Epoch 86/100\n",
            "100/100 [==============================] - 35s 352ms/step - loss: 0.0013 - acc: 0.9997\n",
            "Epoch 87/100\n",
            "100/100 [==============================] - 36s 359ms/step - loss: 0.0147 - acc: 0.9981\n",
            "Epoch 88/100\n",
            "100/100 [==============================] - 35s 351ms/step - loss: 0.0119 - acc: 0.9980\n",
            "Epoch 89/100\n",
            "100/100 [==============================] - 35s 353ms/step - loss: 0.0065 - acc: 0.9987\n",
            "Epoch 90/100\n",
            "100/100 [==============================] - 35s 355ms/step - loss: 0.0067 - acc: 0.9984\n",
            "Epoch 91/100\n",
            "100/100 [==============================] - 35s 351ms/step - loss: 0.0074 - acc: 0.9978\n",
            "Epoch 92/100\n",
            "100/100 [==============================] - 36s 357ms/step - loss: 0.0189 - acc: 0.9969\n",
            "Epoch 93/100\n",
            "100/100 [==============================] - 36s 356ms/step - loss: 0.0023 - acc: 0.9994\n",
            "Epoch 94/100\n",
            "100/100 [==============================] - 35s 354ms/step - loss: 0.0144 - acc: 0.9943\n",
            "Epoch 95/100\n",
            "100/100 [==============================] - 35s 354ms/step - loss: 0.0170 - acc: 0.9972\n",
            "Epoch 96/100\n",
            "100/100 [==============================] - 35s 354ms/step - loss: 1.5855e-04 - acc: 1.0000\n",
            "Epoch 97/100\n",
            "100/100 [==============================] - 36s 357ms/step - loss: 0.0130 - acc: 0.9972\n",
            "Epoch 98/100\n",
            "100/100 [==============================] - 35s 353ms/step - loss: 0.0157 - acc: 0.9978\n",
            "Epoch 99/100\n",
            "100/100 [==============================] - 36s 355ms/step - loss: 0.0114 - acc: 0.9972\n",
            "Epoch 100/100\n",
            "100/100 [==============================] - 35s 353ms/step - loss: 0.0096 - acc: 0.9978\n"
          ],
          "name": "stdout"
        }
      ]
    },
    {
      "cell_type": "code",
      "metadata": {
        "id": "FHIU7uZKxtTx",
        "colab_type": "code",
        "outputId": "79593a04-e8c5-4ecc-98bf-8aac1ea7fab0",
        "colab": {
          "base_uri": "https://localhost:8080/",
          "height": 114
        }
      },
      "source": [
        "from keras.models import load_model\n",
        "\n",
        "import cv2\n",
        "import numpy as np\n",
        "\n",
        "# This is module with image preprocessing utilities\n",
        "from keras.preprocessing import image\n",
        "\n",
        "# We pick one image to \"augment\"\n",
        "img_path ='/content/gdrive/My Drive/art_classify/art_classify/Andy_Warhol_ex.jpg'\n",
        "# Read the image and resize it\n",
        "img = image.load_img(img_path, target_size=(150, 150))\n",
        "\n",
        "# Convert it to a Numpy array with shape (150, 150, 3)\n",
        "x = image.img_to_array(img)\n",
        "\n",
        "# Reshape it to (1, 150, 150, 3)\n",
        "x = x.reshape((1,) + x.shape)\n",
        "\n",
        "predictions = model.predict(x, batch_size=1)\n",
        "\n",
        "print (predictions)\n",
        "\n",
        "if predictions ==1. :\n",
        "    label = 'Jackson Pollock'\n",
        "else :\n",
        "    label= 'Andy Warhol'\n",
        "    \n",
        "print (label)    \n",
        "\n",
        "\n",
        "##########PRINT THE IMAGE ############################\n",
        "\n",
        "import matplotlib.pyplot as plt\n",
        "import matplotlib.image as mpimg\n",
        "\n",
        "plt.figure(figsize=(10,10))\n",
        "for i in range(1):\n",
        "        plt.subplot(10,10,i+1)\n",
        "        plt.xticks([])\n",
        "        plt.yticks([])\n",
        "        plt.grid(True)\n",
        "        img=mpimg.imread(img_path)\n",
        "        imgplot = plt.imshow(img)\n",
        "        plt.show()\n",
        "        \n",
        "###################################\n",
        "\n",
        "\n",
        "\n",
        "model.save('/content/gdrive/My Drive/artworks/AndyWarhol_JacksonPollock_model.h5')"
      ],
      "execution_count": 0,
      "outputs": [
        {
          "output_type": "stream",
          "text": [
            "[[0.]]\n",
            "Andy Warhol\n"
          ],
          "name": "stdout"
        },
        {
          "output_type": "display_data",
          "data": {
            "image/png": "[encoded data removed]",
            "text/plain": [
              "<Figure size 720x720 with 1 Axes>"
            ]
          },
          "metadata": {
            "tags": []
          }
        }
      ]
    },
    {
      "cell_type": "code",
      "metadata": {
        "id": "3S3rk23YAiYH",
        "colab_type": "code",
        "outputId": "25753aca-cb5e-405a-f570-4941046120ff",
        "colab": {
          "base_uri": "https://localhost:8080/",
          "height": 545
        }
      },
      "source": [
        "acc = history.history['acc']\n",
        "\n",
        "loss = history.history['loss']\n",
        "\n",
        "\n",
        "epochs = range(len(acc))\n",
        "\n",
        "plt.plot(epochs, acc, 'bo', label='Training acc')\n",
        "\n",
        "plt.title('Training and validation accuracy')\n",
        "plt.legend()\n",
        "\n",
        "plt.figure()\n",
        "\n",
        "plt.plot(epochs, loss, 'bo', label='Training loss')\n",
        "\n",
        "plt.title('Training loss')\n",
        "plt.legend()\n",
        "\n",
        "plt.show()"
      ],
      "execution_count": 0,
      "outputs": [
        {
          "output_type": "display_data",
          "data": {
            "image/png": "[encoded data removed]",
            "text/plain": [
              "<Figure size 432x288 with 1 Axes>"
            ]
          },
          "metadata": {
            "tags": []
          }
        },
        {
          "output_type": "display_data",
          "data": {
            "image/png": "[encoded data removed]",
            "text/plain": [
              "<Figure size 432x288 with 1 Axes>"
            ]
          },
          "metadata": {
            "tags": []
          }
        }
      ]
    },
    {
      "cell_type": "code",
      "metadata": {
        "id": "oq6zpnfLAoNu",
        "colab_type": "code",
        "colab": {}
      },
      "source": [
        "# The path to the directory where the original\n",
        "# dataset was uncompressed\n",
        "original_dataset_dir = 'art_classify'\n",
        "\n",
        "# The directory where we will\n",
        "# store our smaller dataset\n",
        "base_dir = 'art_classify'"
      ],
      "execution_count": 0,
      "outputs": []
    },
    {
      "cell_type": "code",
      "metadata": {
        "id": "gESLnJl9Atfj",
        "colab_type": "code",
        "outputId": "ffc2125c-4d8c-405c-e01f-6812323ebcc2",
        "colab": {
          "base_uri": "https://localhost:8080/",
          "height": 34
        }
      },
      "source": [
        "from google.colab import drive\n",
        "drive.mount('/content/gdrive')"
      ],
      "execution_count": 0,
      "outputs": [
        {
          "output_type": "stream",
          "text": [
            "Drive already mounted at /content/gdrive; to attempt to forcibly remount, call drive.mount(\"/content/gdrive\", force_remount=True).\n"
          ],
          "name": "stdout"
        }
      ]
    },
    {
      "cell_type": "code",
      "metadata": {
        "id": "3QOMJ9HSAvoY",
        "colab_type": "code",
        "outputId": "7d6c8703-58b8-4575-e4f1-9b2c6f60eca1",
        "colab": {
          "base_uri": "https://localhost:8080/",
          "height": 84
        }
      },
      "source": [
        "!pip install h5py pyyaml"
      ],
      "execution_count": 0,
      "outputs": [
        {
          "output_type": "stream",
          "text": [
            "Requirement already satisfied: h5py in /usr/local/lib/python3.6/dist-packages (2.8.0)\n",
            "Requirement already satisfied: pyyaml in /usr/local/lib/python3.6/dist-packages (3.13)\n",
            "Requirement already satisfied: six in /usr/local/lib/python3.6/dist-packages (from h5py) (1.12.0)\n",
            "Requirement already satisfied: numpy>=1.7 in /usr/local/lib/python3.6/dist-packages (from h5py) (1.17.4)\n"
          ],
          "name": "stdout"
        }
      ]
    },
    {
      "cell_type": "code",
      "metadata": {
        "id": "vJE0MkzSAxnG",
        "colab_type": "code",
        "outputId": "899020be-ff10-4478-ad1e-25ec1659ea1a",
        "colab": {
          "base_uri": "https://localhost:8080/",
          "height": 34
        }
      },
      "source": [
        "import tensorflow as tf\n",
        "from tensorflow import keras\n",
        "\n",
        "tf.__version__"
      ],
      "execution_count": 0,
      "outputs": [
        {
          "output_type": "execute_result",
          "data": {
            "text/plain": [
              "'1.15.0'"
            ]
          },
          "metadata": {
            "tags": []
          },
          "execution_count": 22
        }
      ]
    },
    {
      "cell_type": "code",
      "metadata": {
        "id": "W6onMoqhAzvp",
        "colab_type": "code",
        "outputId": "3552d6ba-f3cf-4544-cbfd-1c9d1700f1b8",
        "colab": {
          "base_uri": "https://localhost:8080/",
          "height": 625
        }
      },
      "source": [
        "# Recreate the exact same model, including weights and optimizer.\n",
        "new_model = keras.models.load_model('/content/gdrive/My Drive/artworks/AndyWarhol_JacksonPollock_model.h5')\n",
        "new_model.summary()"
      ],
      "execution_count": 0,
      "outputs": [
        {
          "output_type": "stream",
          "text": [
            "WARNING:tensorflow:From /usr/local/lib/python3.6/dist-packages/tensorflow_core/python/ops/resource_variable_ops.py:1630: calling BaseResourceVariable.__init__ (from tensorflow.python.ops.resource_variable_ops) with constraint is deprecated and will be removed in a future version.\n",
            "Instructions for updating:\n",
            "If using Keras pass *_constraint arguments to layers.\n",
            "Model: \"sequential_2\"\n",
            "_________________________________________________________________\n",
            "Layer (type)                 Output Shape              Param #   \n",
            "=================================================================\n",
            "conv2d_5 (Conv2D)            (None, 148, 148, 32)      896       \n",
            "_________________________________________________________________\n",
            "max_pooling2d_5 (MaxPooling2 (None, 74, 74, 32)        0         \n",
            "_________________________________________________________________\n",
            "conv2d_6 (Conv2D)            (None, 72, 72, 64)        18496     \n",
            "_________________________________________________________________\n",
            "max_pooling2d_6 (MaxPooling2 (None, 36, 36, 64)        0         \n",
            "_________________________________________________________________\n",
            "conv2d_7 (Conv2D)            (None, 34, 34, 128)       73856     \n",
            "_________________________________________________________________\n",
            "max_pooling2d_7 (MaxPooling2 (None, 17, 17, 128)       0         \n",
            "_________________________________________________________________\n",
            "conv2d_8 (Conv2D)            (None, 15, 15, 128)       147584    \n",
            "_________________________________________________________________\n",
            "max_pooling2d_8 (MaxPooling2 (None, 7, 7, 128)         0         \n",
            "_________________________________________________________________\n",
            "flatten_2 (Flatten)          (None, 6272)              0         \n",
            "_________________________________________________________________\n",
            "dropout_1 (Dropout)          (None, 6272)              0         \n",
            "_________________________________________________________________\n",
            "dense_3 (Dense)              (None, 512)               3211776   \n",
            "_________________________________________________________________\n",
            "dense_4 (Dense)              (None, 1)                 513       \n",
            "=================================================================\n",
            "Total params: 3,453,121\n",
            "Trainable params: 3,453,121\n",
            "Non-trainable params: 0\n",
            "_________________________________________________________________\n"
          ],
          "name": "stdout"
        }
      ]
    },
    {
      "cell_type": "code",
      "metadata": {
        "id": "9BrSOTkyA6Nf",
        "colab_type": "code",
        "outputId": "db6b9e23-1854-4f2f-c34c-adf0369fa433",
        "colab": {
          "base_uri": "https://localhost:8080/",
          "height": 93
        }
      },
      "source": [
        "from keras.models import load_model\n",
        "\n",
        "import cv2\n",
        "import numpy as np\n",
        "\n",
        "# This is module with image preprocessing utilities\n",
        "from keras.preprocessing import image\n",
        "\n",
        "# We pick one image to \"augment\"\n",
        "img_path ='/content/gdrive/My Drive/art_classify/art_classify/Jackson_Pollock_ex.jpg'\n",
        "# Read the image and resize it\n",
        "img = image.load_img(img_path, target_size=(150, 150))\n",
        "\n",
        "# Convert it to a Numpy array with shape (150, 150, 3)\n",
        "x = image.img_to_array(img)\n",
        "\n",
        "# Reshape it to (1, 150, 150, 3)\n",
        "x = x.reshape((1,) + x.shape)\n",
        "\n",
        "predictions = new_model.predict(x, batch_size=1)\n",
        "\n",
        "print (predictions) \n",
        "\n",
        "if predictions ==1. :\n",
        "    label = 'Jackson Pollock'\n",
        "else :\n",
        "    label= 'Andy Warhol'\n",
        "    \n",
        "print (label)    \n",
        "\n",
        "\n",
        "##########PRINT THE IMAGE ############################\n",
        "\n",
        "import matplotlib.pyplot as plt\n",
        "import matplotlib.image as mpimg\n",
        "\n",
        "plt.figure(figsize=(10,10))\n",
        "for i in range(1):\n",
        "        plt.subplot(10,10,i+1)\n",
        "        plt.xticks([])\n",
        "        plt.yticks([])\n",
        "        plt.grid(True)\n",
        "        img=mpimg.imread(img_path)\n",
        "        imgplot = plt.imshow(img)\n",
        "        plt.show()\n",
        "        \n",
        "###################################\n",
        "\n"
      ],
      "execution_count": 0,
      "outputs": [
        {
          "output_type": "stream",
          "text": [
            "[[1.]]\n",
            "Jackson Pollock\n"
          ],
          "name": "stdout"
        },
        {
          "output_type": "display_data",
          "data": {
            "image/png": "[encoded data removed]",
            "text/plain": [
              "<Figure size 720x720 with 1 Axes>"
            ]
          },
          "metadata": {
            "tags": []
          }
        }
      ]
    },
    {
      "cell_type": "code",
      "metadata": {
        "id": "2XhW7l-QBK6T",
        "colab_type": "code",
        "colab": {}
      },
      "source": [
        ""
      ],
      "execution_count": 0,
      "outputs": []
    }
  ]
}